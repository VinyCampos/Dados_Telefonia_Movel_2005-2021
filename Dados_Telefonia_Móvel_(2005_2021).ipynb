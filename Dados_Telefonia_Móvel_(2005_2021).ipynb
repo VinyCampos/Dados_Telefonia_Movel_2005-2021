{
  "nbformat": 4,
  "nbformat_minor": 0,
  "metadata": {
    "colab": {
      "name": "Dados Telefonia Móvel (2005 - 2021).ipynb",
      "provenance": [],
      "collapsed_sections": []
    },
    "kernelspec": {
      "name": "python3",
      "display_name": "Python 3"
    },
    "language_info": {
      "name": "python"
    }
  },
  "cells": [
    {
      "cell_type": "markdown",
      "source": [
        "Bibliotecas:"
      ],
      "metadata": {
        "id": "U2iENSm4Lvdh"
      }
    },
    {
      "cell_type": "code",
      "execution_count": 1,
      "metadata": {
        "id": "fu4WxKe3LDOu"
      },
      "outputs": [],
      "source": [
        "import numpy as np\n",
        "import pandas as pd\n",
        "import matplotlib.pyplot as plt"
      ]
    },
    {
      "cell_type": "markdown",
      "source": [
        "Importação e Leitura dos Dados:"
      ],
      "metadata": {
        "id": "9rLqlhavL9J_"
      }
    },
    {
      "cell_type": "code",
      "source": [
        "dados = pd.read_csv('/dados/modalidade.csv')"
      ],
      "metadata": {
        "id": "w3VR2etSLOdZ"
      },
      "execution_count": 3,
      "outputs": []
    },
    {
      "cell_type": "code",
      "source": [
        "dados.head()"
      ],
      "metadata": {
        "colab": {
          "base_uri": "https://localhost:8080/",
          "height": 206
        },
        "id": "yuOl6WcuL_LK",
        "outputId": "690ee6b8-48b1-4714-8b41-d86ade4d074c"
      },
      "execution_count": 4,
      "outputs": [
        {
          "output_type": "execute_result",
          "data": {
            "text/plain": [
              "    ano  mes sigla_uf  ddd            cnpj empresa porte_empresa modalidade  \\\n",
              "0  2005    2       SP   11   2558157000162    VIVO  Grande Porte   Pré-pago   \n",
              "1  2005    2       SP   11   2558157000162    VIVO  Grande Porte   Pós-pago   \n",
              "2  2005    2       SP   11   4206050000180     TIM  Grande Porte   Pré-pago   \n",
              "3  2005    2       SP   11   4206050000180     TIM  Grande Porte   Pós-pago   \n",
              "4  2005    2       SP   11  40432544000147   CLARO  Grande Porte   Pré-pago   \n",
              "\n",
              "   acessos  \n",
              "0  4362642  \n",
              "1  1016008  \n",
              "2  1770510  \n",
              "3   385276  \n",
              "4  1863716  "
            ],
            "text/html": [
              "\n",
              "  <div id=\"df-fd0b1a86-06f9-4b83-8df7-6093970415df\">\n",
              "    <div class=\"colab-df-container\">\n",
              "      <div>\n",
              "<style scoped>\n",
              "    .dataframe tbody tr th:only-of-type {\n",
              "        vertical-align: middle;\n",
              "    }\n",
              "\n",
              "    .dataframe tbody tr th {\n",
              "        vertical-align: top;\n",
              "    }\n",
              "\n",
              "    .dataframe thead th {\n",
              "        text-align: right;\n",
              "    }\n",
              "</style>\n",
              "<table border=\"1\" class=\"dataframe\">\n",
              "  <thead>\n",
              "    <tr style=\"text-align: right;\">\n",
              "      <th></th>\n",
              "      <th>ano</th>\n",
              "      <th>mes</th>\n",
              "      <th>sigla_uf</th>\n",
              "      <th>ddd</th>\n",
              "      <th>cnpj</th>\n",
              "      <th>empresa</th>\n",
              "      <th>porte_empresa</th>\n",
              "      <th>modalidade</th>\n",
              "      <th>acessos</th>\n",
              "    </tr>\n",
              "  </thead>\n",
              "  <tbody>\n",
              "    <tr>\n",
              "      <th>0</th>\n",
              "      <td>2005</td>\n",
              "      <td>2</td>\n",
              "      <td>SP</td>\n",
              "      <td>11</td>\n",
              "      <td>2558157000162</td>\n",
              "      <td>VIVO</td>\n",
              "      <td>Grande Porte</td>\n",
              "      <td>Pré-pago</td>\n",
              "      <td>4362642</td>\n",
              "    </tr>\n",
              "    <tr>\n",
              "      <th>1</th>\n",
              "      <td>2005</td>\n",
              "      <td>2</td>\n",
              "      <td>SP</td>\n",
              "      <td>11</td>\n",
              "      <td>2558157000162</td>\n",
              "      <td>VIVO</td>\n",
              "      <td>Grande Porte</td>\n",
              "      <td>Pós-pago</td>\n",
              "      <td>1016008</td>\n",
              "    </tr>\n",
              "    <tr>\n",
              "      <th>2</th>\n",
              "      <td>2005</td>\n",
              "      <td>2</td>\n",
              "      <td>SP</td>\n",
              "      <td>11</td>\n",
              "      <td>4206050000180</td>\n",
              "      <td>TIM</td>\n",
              "      <td>Grande Porte</td>\n",
              "      <td>Pré-pago</td>\n",
              "      <td>1770510</td>\n",
              "    </tr>\n",
              "    <tr>\n",
              "      <th>3</th>\n",
              "      <td>2005</td>\n",
              "      <td>2</td>\n",
              "      <td>SP</td>\n",
              "      <td>11</td>\n",
              "      <td>4206050000180</td>\n",
              "      <td>TIM</td>\n",
              "      <td>Grande Porte</td>\n",
              "      <td>Pós-pago</td>\n",
              "      <td>385276</td>\n",
              "    </tr>\n",
              "    <tr>\n",
              "      <th>4</th>\n",
              "      <td>2005</td>\n",
              "      <td>2</td>\n",
              "      <td>SP</td>\n",
              "      <td>11</td>\n",
              "      <td>40432544000147</td>\n",
              "      <td>CLARO</td>\n",
              "      <td>Grande Porte</td>\n",
              "      <td>Pré-pago</td>\n",
              "      <td>1863716</td>\n",
              "    </tr>\n",
              "  </tbody>\n",
              "</table>\n",
              "</div>\n",
              "      <button class=\"colab-df-convert\" onclick=\"convertToInteractive('df-fd0b1a86-06f9-4b83-8df7-6093970415df')\"\n",
              "              title=\"Convert this dataframe to an interactive table.\"\n",
              "              style=\"display:none;\">\n",
              "        \n",
              "  <svg xmlns=\"http://www.w3.org/2000/svg\" height=\"24px\"viewBox=\"0 0 24 24\"\n",
              "       width=\"24px\">\n",
              "    <path d=\"M0 0h24v24H0V0z\" fill=\"none\"/>\n",
              "    <path d=\"M18.56 5.44l.94 2.06.94-2.06 2.06-.94-2.06-.94-.94-2.06-.94 2.06-2.06.94zm-11 1L8.5 8.5l.94-2.06 2.06-.94-2.06-.94L8.5 2.5l-.94 2.06-2.06.94zm10 10l.94 2.06.94-2.06 2.06-.94-2.06-.94-.94-2.06-.94 2.06-2.06.94z\"/><path d=\"M17.41 7.96l-1.37-1.37c-.4-.4-.92-.59-1.43-.59-.52 0-1.04.2-1.43.59L10.3 9.45l-7.72 7.72c-.78.78-.78 2.05 0 2.83L4 21.41c.39.39.9.59 1.41.59.51 0 1.02-.2 1.41-.59l7.78-7.78 2.81-2.81c.8-.78.8-2.07 0-2.86zM5.41 20L4 18.59l7.72-7.72 1.47 1.35L5.41 20z\"/>\n",
              "  </svg>\n",
              "      </button>\n",
              "      \n",
              "  <style>\n",
              "    .colab-df-container {\n",
              "      display:flex;\n",
              "      flex-wrap:wrap;\n",
              "      gap: 12px;\n",
              "    }\n",
              "\n",
              "    .colab-df-convert {\n",
              "      background-color: #E8F0FE;\n",
              "      border: none;\n",
              "      border-radius: 50%;\n",
              "      cursor: pointer;\n",
              "      display: none;\n",
              "      fill: #1967D2;\n",
              "      height: 32px;\n",
              "      padding: 0 0 0 0;\n",
              "      width: 32px;\n",
              "    }\n",
              "\n",
              "    .colab-df-convert:hover {\n",
              "      background-color: #E2EBFA;\n",
              "      box-shadow: 0px 1px 2px rgba(60, 64, 67, 0.3), 0px 1px 3px 1px rgba(60, 64, 67, 0.15);\n",
              "      fill: #174EA6;\n",
              "    }\n",
              "\n",
              "    [theme=dark] .colab-df-convert {\n",
              "      background-color: #3B4455;\n",
              "      fill: #D2E3FC;\n",
              "    }\n",
              "\n",
              "    [theme=dark] .colab-df-convert:hover {\n",
              "      background-color: #434B5C;\n",
              "      box-shadow: 0px 1px 3px 1px rgba(0, 0, 0, 0.15);\n",
              "      filter: drop-shadow(0px 1px 2px rgba(0, 0, 0, 0.3));\n",
              "      fill: #FFFFFF;\n",
              "    }\n",
              "  </style>\n",
              "\n",
              "      <script>\n",
              "        const buttonEl =\n",
              "          document.querySelector('#df-fd0b1a86-06f9-4b83-8df7-6093970415df button.colab-df-convert');\n",
              "        buttonEl.style.display =\n",
              "          google.colab.kernel.accessAllowed ? 'block' : 'none';\n",
              "\n",
              "        async function convertToInteractive(key) {\n",
              "          const element = document.querySelector('#df-fd0b1a86-06f9-4b83-8df7-6093970415df');\n",
              "          const dataTable =\n",
              "            await google.colab.kernel.invokeFunction('convertToInteractive',\n",
              "                                                     [key], {});\n",
              "          if (!dataTable) return;\n",
              "\n",
              "          const docLinkHtml = 'Like what you see? Visit the ' +\n",
              "            '<a target=\"_blank\" href=https://colab.research.google.com/notebooks/data_table.ipynb>data table notebook</a>'\n",
              "            + ' to learn more about interactive tables.';\n",
              "          element.innerHTML = '';\n",
              "          dataTable['output_type'] = 'display_data';\n",
              "          await google.colab.output.renderOutput(dataTable, element);\n",
              "          const docLink = document.createElement('div');\n",
              "          docLink.innerHTML = docLinkHtml;\n",
              "          element.appendChild(docLink);\n",
              "        }\n",
              "      </script>\n",
              "    </div>\n",
              "  </div>\n",
              "  "
            ]
          },
          "metadata": {},
          "execution_count": 4
        }
      ]
    },
    {
      "cell_type": "code",
      "source": [
        "dados.columns.values"
      ],
      "metadata": {
        "id": "U41M40F7MpFJ",
        "outputId": "2b36f91c-5d06-4208-c42b-7cde0f71d508",
        "colab": {
          "base_uri": "https://localhost:8080/"
        }
      },
      "execution_count": 5,
      "outputs": [
        {
          "output_type": "execute_result",
          "data": {
            "text/plain": [
              "array(['ano', 'mes', 'sigla_uf', 'ddd', 'cnpj', 'empresa',\n",
              "       'porte_empresa', 'modalidade', 'acessos'], dtype=object)"
            ]
          },
          "metadata": {},
          "execution_count": 5
        }
      ]
    },
    {
      "cell_type": "code",
      "source": [
        "colunasSelecionadas = [\n",
        "       'ano', 'mes', 'sigla_uf', 'ddd', 'cnpj', 'empresa',\n",
        "       'porte_empresa', 'modalidade', 'acessos']\n",
        "dadosSelecionados = dados.filter(items = colunasSelecionadas)\n",
        "dadosSelecionados"
      ],
      "metadata": {
        "id": "Ia9HNYi-NUAw",
        "colab": {
          "base_uri": "https://localhost:8080/",
          "height": 424
        },
        "outputId": "2eb3f903-3428-46d7-c6ea-aa5b0238ffee"
      },
      "execution_count": 6,
      "outputs": [
        {
          "output_type": "execute_result",
          "data": {
            "text/plain": [
              "          ano  mes sigla_uf  ddd            cnpj empresa porte_empresa  \\\n",
              "0        2005    2       SP   11   2558157000162    VIVO  Grande Porte   \n",
              "1        2005    2       SP   11   2558157000162    VIVO  Grande Porte   \n",
              "2        2005    2       SP   11   4206050000180     TIM  Grande Porte   \n",
              "3        2005    2       SP   11   4206050000180     TIM  Grande Porte   \n",
              "4        2005    2       SP   11  40432544000147   CLARO  Grande Porte   \n",
              "...       ...  ...      ...  ...             ...     ...           ...   \n",
              "8539102  2021    7       TO   63  40432544000147   CLARO  Grande Porte   \n",
              "8539103  2021    7       TO   63  40432544000147   CLARO  Grande Porte   \n",
              "8539104  2021    7       TO   63  40432544000147   CLARO  Grande Porte   \n",
              "8539105  2021    7       TO   63  40432544000147   CLARO  Grande Porte   \n",
              "8539106  2021    7       TO   63  40432544000147   CLARO  Grande Porte   \n",
              "\n",
              "        modalidade  acessos  \n",
              "0         Pré-pago  4362642  \n",
              "1         Pós-pago  1016008  \n",
              "2         Pré-pago  1770510  \n",
              "3         Pós-pago   385276  \n",
              "4         Pré-pago  1863716  \n",
              "...            ...      ...  \n",
              "8539102   Pós-pago      107  \n",
              "8539103   Pós-pago        2  \n",
              "8539104   Pós-pago      141  \n",
              "8539105   Pós-pago      119  \n",
              "8539106   Pós-pago       17  \n",
              "\n",
              "[8539107 rows x 9 columns]"
            ],
            "text/html": [
              "\n",
              "  <div id=\"df-5ec57626-1a9f-48fd-b30c-ea5ceddda125\">\n",
              "    <div class=\"colab-df-container\">\n",
              "      <div>\n",
              "<style scoped>\n",
              "    .dataframe tbody tr th:only-of-type {\n",
              "        vertical-align: middle;\n",
              "    }\n",
              "\n",
              "    .dataframe tbody tr th {\n",
              "        vertical-align: top;\n",
              "    }\n",
              "\n",
              "    .dataframe thead th {\n",
              "        text-align: right;\n",
              "    }\n",
              "</style>\n",
              "<table border=\"1\" class=\"dataframe\">\n",
              "  <thead>\n",
              "    <tr style=\"text-align: right;\">\n",
              "      <th></th>\n",
              "      <th>ano</th>\n",
              "      <th>mes</th>\n",
              "      <th>sigla_uf</th>\n",
              "      <th>ddd</th>\n",
              "      <th>cnpj</th>\n",
              "      <th>empresa</th>\n",
              "      <th>porte_empresa</th>\n",
              "      <th>modalidade</th>\n",
              "      <th>acessos</th>\n",
              "    </tr>\n",
              "  </thead>\n",
              "  <tbody>\n",
              "    <tr>\n",
              "      <th>0</th>\n",
              "      <td>2005</td>\n",
              "      <td>2</td>\n",
              "      <td>SP</td>\n",
              "      <td>11</td>\n",
              "      <td>2558157000162</td>\n",
              "      <td>VIVO</td>\n",
              "      <td>Grande Porte</td>\n",
              "      <td>Pré-pago</td>\n",
              "      <td>4362642</td>\n",
              "    </tr>\n",
              "    <tr>\n",
              "      <th>1</th>\n",
              "      <td>2005</td>\n",
              "      <td>2</td>\n",
              "      <td>SP</td>\n",
              "      <td>11</td>\n",
              "      <td>2558157000162</td>\n",
              "      <td>VIVO</td>\n",
              "      <td>Grande Porte</td>\n",
              "      <td>Pós-pago</td>\n",
              "      <td>1016008</td>\n",
              "    </tr>\n",
              "    <tr>\n",
              "      <th>2</th>\n",
              "      <td>2005</td>\n",
              "      <td>2</td>\n",
              "      <td>SP</td>\n",
              "      <td>11</td>\n",
              "      <td>4206050000180</td>\n",
              "      <td>TIM</td>\n",
              "      <td>Grande Porte</td>\n",
              "      <td>Pré-pago</td>\n",
              "      <td>1770510</td>\n",
              "    </tr>\n",
              "    <tr>\n",
              "      <th>3</th>\n",
              "      <td>2005</td>\n",
              "      <td>2</td>\n",
              "      <td>SP</td>\n",
              "      <td>11</td>\n",
              "      <td>4206050000180</td>\n",
              "      <td>TIM</td>\n",
              "      <td>Grande Porte</td>\n",
              "      <td>Pós-pago</td>\n",
              "      <td>385276</td>\n",
              "    </tr>\n",
              "    <tr>\n",
              "      <th>4</th>\n",
              "      <td>2005</td>\n",
              "      <td>2</td>\n",
              "      <td>SP</td>\n",
              "      <td>11</td>\n",
              "      <td>40432544000147</td>\n",
              "      <td>CLARO</td>\n",
              "      <td>Grande Porte</td>\n",
              "      <td>Pré-pago</td>\n",
              "      <td>1863716</td>\n",
              "    </tr>\n",
              "    <tr>\n",
              "      <th>...</th>\n",
              "      <td>...</td>\n",
              "      <td>...</td>\n",
              "      <td>...</td>\n",
              "      <td>...</td>\n",
              "      <td>...</td>\n",
              "      <td>...</td>\n",
              "      <td>...</td>\n",
              "      <td>...</td>\n",
              "      <td>...</td>\n",
              "    </tr>\n",
              "    <tr>\n",
              "      <th>8539102</th>\n",
              "      <td>2021</td>\n",
              "      <td>7</td>\n",
              "      <td>TO</td>\n",
              "      <td>63</td>\n",
              "      <td>40432544000147</td>\n",
              "      <td>CLARO</td>\n",
              "      <td>Grande Porte</td>\n",
              "      <td>Pós-pago</td>\n",
              "      <td>107</td>\n",
              "    </tr>\n",
              "    <tr>\n",
              "      <th>8539103</th>\n",
              "      <td>2021</td>\n",
              "      <td>7</td>\n",
              "      <td>TO</td>\n",
              "      <td>63</td>\n",
              "      <td>40432544000147</td>\n",
              "      <td>CLARO</td>\n",
              "      <td>Grande Porte</td>\n",
              "      <td>Pós-pago</td>\n",
              "      <td>2</td>\n",
              "    </tr>\n",
              "    <tr>\n",
              "      <th>8539104</th>\n",
              "      <td>2021</td>\n",
              "      <td>7</td>\n",
              "      <td>TO</td>\n",
              "      <td>63</td>\n",
              "      <td>40432544000147</td>\n",
              "      <td>CLARO</td>\n",
              "      <td>Grande Porte</td>\n",
              "      <td>Pós-pago</td>\n",
              "      <td>141</td>\n",
              "    </tr>\n",
              "    <tr>\n",
              "      <th>8539105</th>\n",
              "      <td>2021</td>\n",
              "      <td>7</td>\n",
              "      <td>TO</td>\n",
              "      <td>63</td>\n",
              "      <td>40432544000147</td>\n",
              "      <td>CLARO</td>\n",
              "      <td>Grande Porte</td>\n",
              "      <td>Pós-pago</td>\n",
              "      <td>119</td>\n",
              "    </tr>\n",
              "    <tr>\n",
              "      <th>8539106</th>\n",
              "      <td>2021</td>\n",
              "      <td>7</td>\n",
              "      <td>TO</td>\n",
              "      <td>63</td>\n",
              "      <td>40432544000147</td>\n",
              "      <td>CLARO</td>\n",
              "      <td>Grande Porte</td>\n",
              "      <td>Pós-pago</td>\n",
              "      <td>17</td>\n",
              "    </tr>\n",
              "  </tbody>\n",
              "</table>\n",
              "<p>8539107 rows × 9 columns</p>\n",
              "</div>\n",
              "      <button class=\"colab-df-convert\" onclick=\"convertToInteractive('df-5ec57626-1a9f-48fd-b30c-ea5ceddda125')\"\n",
              "              title=\"Convert this dataframe to an interactive table.\"\n",
              "              style=\"display:none;\">\n",
              "        \n",
              "  <svg xmlns=\"http://www.w3.org/2000/svg\" height=\"24px\"viewBox=\"0 0 24 24\"\n",
              "       width=\"24px\">\n",
              "    <path d=\"M0 0h24v24H0V0z\" fill=\"none\"/>\n",
              "    <path d=\"M18.56 5.44l.94 2.06.94-2.06 2.06-.94-2.06-.94-.94-2.06-.94 2.06-2.06.94zm-11 1L8.5 8.5l.94-2.06 2.06-.94-2.06-.94L8.5 2.5l-.94 2.06-2.06.94zm10 10l.94 2.06.94-2.06 2.06-.94-2.06-.94-.94-2.06-.94 2.06-2.06.94z\"/><path d=\"M17.41 7.96l-1.37-1.37c-.4-.4-.92-.59-1.43-.59-.52 0-1.04.2-1.43.59L10.3 9.45l-7.72 7.72c-.78.78-.78 2.05 0 2.83L4 21.41c.39.39.9.59 1.41.59.51 0 1.02-.2 1.41-.59l7.78-7.78 2.81-2.81c.8-.78.8-2.07 0-2.86zM5.41 20L4 18.59l7.72-7.72 1.47 1.35L5.41 20z\"/>\n",
              "  </svg>\n",
              "      </button>\n",
              "      \n",
              "  <style>\n",
              "    .colab-df-container {\n",
              "      display:flex;\n",
              "      flex-wrap:wrap;\n",
              "      gap: 12px;\n",
              "    }\n",
              "\n",
              "    .colab-df-convert {\n",
              "      background-color: #E8F0FE;\n",
              "      border: none;\n",
              "      border-radius: 50%;\n",
              "      cursor: pointer;\n",
              "      display: none;\n",
              "      fill: #1967D2;\n",
              "      height: 32px;\n",
              "      padding: 0 0 0 0;\n",
              "      width: 32px;\n",
              "    }\n",
              "\n",
              "    .colab-df-convert:hover {\n",
              "      background-color: #E2EBFA;\n",
              "      box-shadow: 0px 1px 2px rgba(60, 64, 67, 0.3), 0px 1px 3px 1px rgba(60, 64, 67, 0.15);\n",
              "      fill: #174EA6;\n",
              "    }\n",
              "\n",
              "    [theme=dark] .colab-df-convert {\n",
              "      background-color: #3B4455;\n",
              "      fill: #D2E3FC;\n",
              "    }\n",
              "\n",
              "    [theme=dark] .colab-df-convert:hover {\n",
              "      background-color: #434B5C;\n",
              "      box-shadow: 0px 1px 3px 1px rgba(0, 0, 0, 0.15);\n",
              "      filter: drop-shadow(0px 1px 2px rgba(0, 0, 0, 0.3));\n",
              "      fill: #FFFFFF;\n",
              "    }\n",
              "  </style>\n",
              "\n",
              "      <script>\n",
              "        const buttonEl =\n",
              "          document.querySelector('#df-5ec57626-1a9f-48fd-b30c-ea5ceddda125 button.colab-df-convert');\n",
              "        buttonEl.style.display =\n",
              "          google.colab.kernel.accessAllowed ? 'block' : 'none';\n",
              "\n",
              "        async function convertToInteractive(key) {\n",
              "          const element = document.querySelector('#df-5ec57626-1a9f-48fd-b30c-ea5ceddda125');\n",
              "          const dataTable =\n",
              "            await google.colab.kernel.invokeFunction('convertToInteractive',\n",
              "                                                     [key], {});\n",
              "          if (!dataTable) return;\n",
              "\n",
              "          const docLinkHtml = 'Like what you see? Visit the ' +\n",
              "            '<a target=\"_blank\" href=https://colab.research.google.com/notebooks/data_table.ipynb>data table notebook</a>'\n",
              "            + ' to learn more about interactive tables.';\n",
              "          element.innerHTML = '';\n",
              "          dataTable['output_type'] = 'display_data';\n",
              "          await google.colab.output.renderOutput(dataTable, element);\n",
              "          const docLink = document.createElement('div');\n",
              "          docLink.innerHTML = docLinkHtml;\n",
              "          element.appendChild(docLink);\n",
              "        }\n",
              "      </script>\n",
              "    </div>\n",
              "  </div>\n",
              "  "
            ]
          },
          "metadata": {},
          "execution_count": 6
        }
      ]
    },
    {
      "cell_type": "markdown",
      "source": [
        "Número de ocorrências de provedores por Estado na Lista:"
      ],
      "metadata": {
        "id": "ONU6K2hOP5jB"
      }
    },
    {
      "cell_type": "code",
      "source": [
        "colunaEstado = dadosSelecionados['sigla_uf']\n",
        "colunaEstado.value_counts().sort_index()"
      ],
      "metadata": {
        "colab": {
          "base_uri": "https://localhost:8080/"
        },
        "id": "kvXOGGJkQDzt",
        "outputId": "cd2266cf-55f5-4b3d-8890-f0c87960da6c"
      },
      "execution_count": 7,
      "outputs": [
        {
          "output_type": "execute_result",
          "data": {
            "text/plain": [
              "AC      32412\n",
              "AL     147258\n",
              "AM      80195\n",
              "AP      24301\n",
              "BA     609865\n",
              "CE     290287\n",
              "DF       4719\n",
              "ES     143947\n",
              "GO     366586\n",
              "MA     293262\n",
              "MG    1284535\n",
              "MS     131677\n",
              "MT     209060\n",
              "PA     223870\n",
              "PB     268457\n",
              "PE     301104\n",
              "PI     233231\n",
              "PR     669053\n",
              "RJ     217955\n",
              "RN     214837\n",
              "RO      80396\n",
              "RR      20105\n",
              "RS     743272\n",
              "SC     489421\n",
              "SE     104362\n",
              "SP    1185722\n",
              "TO     169218\n",
              "Name: sigla_uf, dtype: int64"
            ]
          },
          "metadata": {},
          "execution_count": 7
        }
      ]
    },
    {
      "cell_type": "markdown",
      "source": [
        "Empresas com maior número de ocorrência na Lista:"
      ],
      "metadata": {
        "id": "9SGhy2raRbmk"
      }
    },
    {
      "cell_type": "code",
      "source": [
        "colunaEmpresa = dadosSelecionados['empresa']\n",
        "colunaEmpresa.value_counts(ascending=False)"
      ],
      "metadata": {
        "colab": {
          "base_uri": "https://localhost:8080/"
        },
        "id": "GxsC7_yLQ97L",
        "outputId": "e5bbfc2f-4e73-4973-c111-600abc66494c"
      },
      "execution_count": 8,
      "outputs": [
        {
          "output_type": "execute_result",
          "data": {
            "text/plain": [
              "OI                                3008286\n",
              "TIM                               2035250\n",
              "VIVO                              1790936\n",
              "CLARO                             1479319\n",
              "NEXTEL                             110547\n",
              "ALGAR (CTBC TELECOM)                57837\n",
              "SURF TELECOM SA                     42043\n",
              "AMERICA NET S.A.                     8878\n",
              "PREFEITURA DE LONDRINA/COPEL         2380\n",
              "DATORA                               1616\n",
              "J. SAFRA TELECOMUNICACOES LTDA        889\n",
              "PORTO SEGURO                          875\n",
              "LIGUE MOVEL LTDA                      186\n",
              "UNICEL                                 34\n",
              "TERAPAR TELECOMUNICAÇÕES LTDA          31\n",
              "Name: empresa, dtype: int64"
            ]
          },
          "metadata": {},
          "execution_count": 8
        }
      ]
    },
    {
      "cell_type": "markdown",
      "source": [
        "Modalidades de utilização (Pré-Pago vs Pós-Pago) - Número total de ocorrências na lista:"
      ],
      "metadata": {
        "id": "xie4b_UiUwfB"
      }
    },
    {
      "cell_type": "code",
      "source": [
        "grafico_modalidade = dadosSelecionados['modalidade'].value_counts()\n",
        "colors = ['#FF0000','#0000FF']\n",
        "plt.pie(grafico_modalidade, labels = grafico_modalidade.index, autopct='%1.i%%', colors=colors, shadow=True)\n",
        "\n",
        "plt.legend()\n",
        "\n",
        "plt.title('Modalidade')\n",
        "plt.show()"
      ],
      "metadata": {
        "colab": {
          "base_uri": "https://localhost:8080/",
          "height": 264
        },
        "id": "W4NyAQ-DUs3G",
        "outputId": "59cc9a8c-b6d8-46dc-cc5f-1471653ecc90"
      },
      "execution_count": 10,
      "outputs": [
        {
          "output_type": "display_data",
          "data": {
            "text/plain": [
              "<Figure size 432x288 with 1 Axes>"
            ],
            "image/png": "[encoded data removed]"
          },
          "metadata": {}
        }
      ]
    },
    {
      "cell_type": "markdown",
      "source": [
        "Modalidades de utilização (Pré-Pago vs Pós-Pago) por Região:"
      ],
      "metadata": {
        "id": "FfyuCB9zOoLx"
      }
    },
    {
      "cell_type": "code",
      "source": [
        "def numero_em_cima(rects, ax): \n",
        "    for rect in rects:\n",
        "        height = rect.get_height()\n",
        "        ax.annotate('{}'.format(height),\n",
        "                    xy=(rect.get_x() + rect.get_width() / 2, height),\n",
        "                    xytext=(0, 3),  \n",
        "                    textcoords=\"offset points\",\n",
        "                    ha='center', va='bottom')"
      ],
      "metadata": {
        "id": "WoZwp3xGZN_e"
      },
      "execution_count": 11,
      "outputs": []
    },
    {
      "cell_type": "code",
      "source": [
        "dic_regioes = {'Nordeste': ['AL', 'BA', 'CE', 'MA', 'PB', 'PE', 'PI', 'RN', 'SE'],\n",
        "                'Norte': ['AM', 'RR', 'AP', 'PA', 'TO', 'RO', 'AC'],\n",
        "                'Centro Oeste': ['MT', 'MS', 'GO'], \n",
        "                'Sudeste': ['SP', 'RJ', 'ES', 'MG'],\n",
        "                'Sul': ['PR', 'RS', 'SC']}\n",
        "tipos = ['Pré-pago', 'Pós-pago']\n",
        "dic_01 = {i: [ len([k for k in list(dados.loc[dados['modalidade'] == i, ['sigla_uf']]['sigla_uf'])\n",
        "                    if k in dic_regioes[j]]) for j in dic_regioes.keys()] for i in tipos}\n",
        "\n",
        "dic_01['Região'] = list(dic_regioes.keys())\n",
        "dados_regioes = pd.DataFrame(dic_01)"
      ],
      "metadata": {
        "id": "8naqcCbHYwq-"
      },
      "execution_count": 12,
      "outputs": []
    },
    {
      "cell_type": "code",
      "source": [
        "plt.style.use(\"ggplot\")\n",
        "fig, ax = plt.subplots(figsize=(14, 6))\n",
        "\n",
        "width = 0.25\n",
        "r1 = np.arange(5)\n",
        "r2 = [ x + width for x in r1]\n",
        "r3 = [ x + width for x in r2]\n",
        "\n",
        "rects1 = ax.bar(r1, dados_regioes['Pré-pago'], width, label='Pré-pago', color='#0000ff')\n",
        "rects2 = ax.bar(r2, dados_regioes['Pós-pago'], width, label='Pós-pago', color='#ff0000')\n",
        "\n",
        "\n",
        "ax.set_ylabel('Provedores')\n",
        "ax.set_title('Pré-Pago vs Pós Pago Por Região(2005 - 2021)', color='#000000')\n",
        "ax.set_xticks(r1 + 0.125)\n",
        "ax.set_xticklabels(dados_regioes['Região'], color='#000000')\n",
        "ax.legend()\n",
        "\n",
        "numero_em_cima(rects1, ax)\n",
        "numero_em_cima(rects2, ax)\n",
        "\n",
        "plt.show()"
      ],
      "metadata": {
        "colab": {
          "base_uri": "https://localhost:8080/",
          "height": 392
        },
        "id": "zXngjzzXZWWH",
        "outputId": "e3092969-4610-4180-8189-377dbf4d625a"
      },
      "execution_count": 14,
      "outputs": [
        {
          "output_type": "display_data",
          "data": {
            "text/plain": [
              "<Figure size 1008x432 with 1 Axes>"
            ],
            "image/png": "[encoded data removed]"
          },
          "metadata": {}
        }
      ]
    },
    {
      "cell_type": "markdown",
      "source": [
        "Número total de acessos por Empresa:"
      ],
      "metadata": {
        "id": "M1Rbq_XXPLjw"
      }
    },
    {
      "cell_type": "code",
      "source": [
        "acessoPorEmpresa = dadosSelecionados[['acessos']].groupby(dadosSelecionados['empresa'], sort=True).sum()\n",
        "\n",
        "acessoPorEmpresa = acessoPorEmpresa.sort_values(by = ['acessos'], ascending=[False])\n",
        "acessoPorEmpresa"
      ],
      "metadata": {
        "colab": {
          "base_uri": "https://localhost:8080/",
          "height": 551
        },
        "id": "lkiHZrg5PILR",
        "outputId": "ce3ffaf1-82d7-4a63-f535-a24cd4a73d31"
      },
      "execution_count": 15,
      "outputs": [
        {
          "output_type": "execute_result",
          "data": {
            "text/plain": [
              "                                    acessos\n",
              "empresa                                    \n",
              "VIVO                            12431739391\n",
              "TIM                             10181849983\n",
              "CLARO                           10135176994\n",
              "OI                               7280023603\n",
              "NEXTEL                            222112269\n",
              "ALGAR (CTBC TELECOM)              196179556\n",
              "PORTO SEGURO                       25781209\n",
              "DATORA                             24683279\n",
              "PREFEITURA DE LONDRINA/COPEL       13928373\n",
              "SURF TELECOM SA                    13301236\n",
              "J. SAFRA TELECOMUNICACOES LTDA      9094079\n",
              "AMERICA NET S.A.                    1220618\n",
              "UNICEL                               590189\n",
              "TERAPAR TELECOMUNICAÇÕES LTDA        181840\n",
              "LIGUE MOVEL LTDA                       2449"
            ],
            "text/html": [
              "\n",
              "  <div id=\"df-a5710361-7b1f-4016-93b7-022930334b0e\">\n",
              "    <div class=\"colab-df-container\">\n",
              "      <div>\n",
              "<style scoped>\n",
              "    .dataframe tbody tr th:only-of-type {\n",
              "        vertical-align: middle;\n",
              "    }\n",
              "\n",
              "    .dataframe tbody tr th {\n",
              "        vertical-align: top;\n",
              "    }\n",
              "\n",
              "    .dataframe thead th {\n",
              "        text-align: right;\n",
              "    }\n",
              "</style>\n",
              "<table border=\"1\" class=\"dataframe\">\n",
              "  <thead>\n",
              "    <tr style=\"text-align: right;\">\n",
              "      <th></th>\n",
              "      <th>acessos</th>\n",
              "    </tr>\n",
              "    <tr>\n",
              "      <th>empresa</th>\n",
              "      <th></th>\n",
              "    </tr>\n",
              "  </thead>\n",
              "  <tbody>\n",
              "    <tr>\n",
              "      <th>VIVO</th>\n",
              "      <td>12431739391</td>\n",
              "    </tr>\n",
              "    <tr>\n",
              "      <th>TIM</th>\n",
              "      <td>10181849983</td>\n",
              "    </tr>\n",
              "    <tr>\n",
              "      <th>CLARO</th>\n",
              "      <td>10135176994</td>\n",
              "    </tr>\n",
              "    <tr>\n",
              "      <th>OI</th>\n",
              "      <td>7280023603</td>\n",
              "    </tr>\n",
              "    <tr>\n",
              "      <th>NEXTEL</th>\n",
              "      <td>222112269</td>\n",
              "    </tr>\n",
              "    <tr>\n",
              "      <th>ALGAR (CTBC TELECOM)</th>\n",
              "      <td>196179556</td>\n",
              "    </tr>\n",
              "    <tr>\n",
              "      <th>PORTO SEGURO</th>\n",
              "      <td>25781209</td>\n",
              "    </tr>\n",
              "    <tr>\n",
              "      <th>DATORA</th>\n",
              "      <td>24683279</td>\n",
              "    </tr>\n",
              "    <tr>\n",
              "      <th>PREFEITURA DE LONDRINA/COPEL</th>\n",
              "      <td>13928373</td>\n",
              "    </tr>\n",
              "    <tr>\n",
              "      <th>SURF TELECOM SA</th>\n",
              "      <td>13301236</td>\n",
              "    </tr>\n",
              "    <tr>\n",
              "      <th>J. SAFRA TELECOMUNICACOES LTDA</th>\n",
              "      <td>9094079</td>\n",
              "    </tr>\n",
              "    <tr>\n",
              "      <th>AMERICA NET S.A.</th>\n",
              "      <td>1220618</td>\n",
              "    </tr>\n",
              "    <tr>\n",
              "      <th>UNICEL</th>\n",
              "      <td>590189</td>\n",
              "    </tr>\n",
              "    <tr>\n",
              "      <th>TERAPAR TELECOMUNICAÇÕES LTDA</th>\n",
              "      <td>181840</td>\n",
              "    </tr>\n",
              "    <tr>\n",
              "      <th>LIGUE MOVEL LTDA</th>\n",
              "      <td>2449</td>\n",
              "    </tr>\n",
              "  </tbody>\n",
              "</table>\n",
              "</div>\n",
              "      <button class=\"colab-df-convert\" onclick=\"convertToInteractive('df-a5710361-7b1f-4016-93b7-022930334b0e')\"\n",
              "              title=\"Convert this dataframe to an interactive table.\"\n",
              "              style=\"display:none;\">\n",
              "        \n",
              "  <svg xmlns=\"http://www.w3.org/2000/svg\" height=\"24px\"viewBox=\"0 0 24 24\"\n",
              "       width=\"24px\">\n",
              "    <path d=\"M0 0h24v24H0V0z\" fill=\"none\"/>\n",
              "    <path d=\"M18.56 5.44l.94 2.06.94-2.06 2.06-.94-2.06-.94-.94-2.06-.94 2.06-2.06.94zm-11 1L8.5 8.5l.94-2.06 2.06-.94-2.06-.94L8.5 2.5l-.94 2.06-2.06.94zm10 10l.94 2.06.94-2.06 2.06-.94-2.06-.94-.94-2.06-.94 2.06-2.06.94z\"/><path d=\"M17.41 7.96l-1.37-1.37c-.4-.4-.92-.59-1.43-.59-.52 0-1.04.2-1.43.59L10.3 9.45l-7.72 7.72c-.78.78-.78 2.05 0 2.83L4 21.41c.39.39.9.59 1.41.59.51 0 1.02-.2 1.41-.59l7.78-7.78 2.81-2.81c.8-.78.8-2.07 0-2.86zM5.41 20L4 18.59l7.72-7.72 1.47 1.35L5.41 20z\"/>\n",
              "  </svg>\n",
              "      </button>\n",
              "      \n",
              "  <style>\n",
              "    .colab-df-container {\n",
              "      display:flex;\n",
              "      flex-wrap:wrap;\n",
              "      gap: 12px;\n",
              "    }\n",
              "\n",
              "    .colab-df-convert {\n",
              "      background-color: #E8F0FE;\n",
              "      border: none;\n",
              "      border-radius: 50%;\n",
              "      cursor: pointer;\n",
              "      display: none;\n",
              "      fill: #1967D2;\n",
              "      height: 32px;\n",
              "      padding: 0 0 0 0;\n",
              "      width: 32px;\n",
              "    }\n",
              "\n",
              "    .colab-df-convert:hover {\n",
              "      background-color: #E2EBFA;\n",
              "      box-shadow: 0px 1px 2px rgba(60, 64, 67, 0.3), 0px 1px 3px 1px rgba(60, 64, 67, 0.15);\n",
              "      fill: #174EA6;\n",
              "    }\n",
              "\n",
              "    [theme=dark] .colab-df-convert {\n",
              "      background-color: #3B4455;\n",
              "      fill: #D2E3FC;\n",
              "    }\n",
              "\n",
              "    [theme=dark] .colab-df-convert:hover {\n",
              "      background-color: #434B5C;\n",
              "      box-shadow: 0px 1px 3px 1px rgba(0, 0, 0, 0.15);\n",
              "      filter: drop-shadow(0px 1px 2px rgba(0, 0, 0, 0.3));\n",
              "      fill: #FFFFFF;\n",
              "    }\n",
              "  </style>\n",
              "\n",
              "      <script>\n",
              "        const buttonEl =\n",
              "          document.querySelector('#df-a5710361-7b1f-4016-93b7-022930334b0e button.colab-df-convert');\n",
              "        buttonEl.style.display =\n",
              "          google.colab.kernel.accessAllowed ? 'block' : 'none';\n",
              "\n",
              "        async function convertToInteractive(key) {\n",
              "          const element = document.querySelector('#df-a5710361-7b1f-4016-93b7-022930334b0e');\n",
              "          const dataTable =\n",
              "            await google.colab.kernel.invokeFunction('convertToInteractive',\n",
              "                                                     [key], {});\n",
              "          if (!dataTable) return;\n",
              "\n",
              "          const docLinkHtml = 'Like what you see? Visit the ' +\n",
              "            '<a target=\"_blank\" href=https://colab.research.google.com/notebooks/data_table.ipynb>data table notebook</a>'\n",
              "            + ' to learn more about interactive tables.';\n",
              "          element.innerHTML = '';\n",
              "          dataTable['output_type'] = 'display_data';\n",
              "          await google.colab.output.renderOutput(dataTable, element);\n",
              "          const docLink = document.createElement('div');\n",
              "          docLink.innerHTML = docLinkHtml;\n",
              "          element.appendChild(docLink);\n",
              "        }\n",
              "      </script>\n",
              "    </div>\n",
              "  </div>\n",
              "  "
            ]
          },
          "metadata": {},
          "execution_count": 15
        }
      ]
    },
    {
      "cell_type": "markdown",
      "source": [
        "Top 5 Empresas com maior número de acessos:"
      ],
      "metadata": {
        "id": "sLMFYi32PTtR"
      }
    },
    {
      "cell_type": "code",
      "source": [
        "dadosSelecionados[['acessos']].groupby(dadosSelecionados['empresa'], sort=True).sum().sort_values(by = ['acessos'], ascending=[False])[:5].plot(kind=\"bar\", figsize=(10, 10), color=['#ff0000'])\n",
        "\n",
        "\n",
        "plt.title(\"Acessos por empresas (Top 5)\")\n",
        "plt.xlabel(\"Empresas\")\n",
        "plt.ylabel(\"Acessos\")\n",
        "\n",
        "plt.xticks(rotation=30, horizontalalignment=\"center\")\n",
        "plt.legend().remove()"
      ],
      "metadata": {
        "colab": {
          "base_uri": "https://localhost:8080/",
          "height": 643
        },
        "id": "C43p11DxPQ7o",
        "outputId": "f4e93696-6a1a-47cb-9007-2ac84023a5f7"
      },
      "execution_count": 16,
      "outputs": [
        {
          "output_type": "display_data",
          "data": {
            "text/plain": [
              "<Figure size 720x720 with 1 Axes>"
            ],
            "image/png": "[encoded data removed]"
          },
          "metadata": {}
        }
      ]
    },
    {
      "cell_type": "markdown",
      "source": [
        "Número total de acessos por modalidade:"
      ],
      "metadata": {
        "id": "h1CoMU_7PlD0"
      }
    },
    {
      "cell_type": "code",
      "source": [
        "acessoPorModalidade = dadosSelecionados[['acessos']].groupby(dadosSelecionados['modalidade'], sort=True).sum().sort_values(by = ['acessos'], ascending=[False])\n",
        "\n",
        "acessoPorModalidade"
      ],
      "metadata": {
        "colab": {
          "base_uri": "https://localhost:8080/",
          "height": 143
        },
        "id": "ChYFAkJfPZUA",
        "outputId": "ba0a668b-ec80-4b95-9265-bd3f7228bd17"
      },
      "execution_count": 17,
      "outputs": [
        {
          "output_type": "execute_result",
          "data": {
            "text/plain": [
              "                acessos\n",
              "modalidade             \n",
              "Pré-pago    29000755684\n",
              "Pós-pago    11535109384"
            ],
            "text/html": [
              "\n",
              "  <div id=\"df-5762c0fc-4e14-4ec8-b692-1e3d3a34cc24\">\n",
              "    <div class=\"colab-df-container\">\n",
              "      <div>\n",
              "<style scoped>\n",
              "    .dataframe tbody tr th:only-of-type {\n",
              "        vertical-align: middle;\n",
              "    }\n",
              "\n",
              "    .dataframe tbody tr th {\n",
              "        vertical-align: top;\n",
              "    }\n",
              "\n",
              "    .dataframe thead th {\n",
              "        text-align: right;\n",
              "    }\n",
              "</style>\n",
              "<table border=\"1\" class=\"dataframe\">\n",
              "  <thead>\n",
              "    <tr style=\"text-align: right;\">\n",
              "      <th></th>\n",
              "      <th>acessos</th>\n",
              "    </tr>\n",
              "    <tr>\n",
              "      <th>modalidade</th>\n",
              "      <th></th>\n",
              "    </tr>\n",
              "  </thead>\n",
              "  <tbody>\n",
              "    <tr>\n",
              "      <th>Pré-pago</th>\n",
              "      <td>29000755684</td>\n",
              "    </tr>\n",
              "    <tr>\n",
              "      <th>Pós-pago</th>\n",
              "      <td>11535109384</td>\n",
              "    </tr>\n",
              "  </tbody>\n",
              "</table>\n",
              "</div>\n",
              "      <button class=\"colab-df-convert\" onclick=\"convertToInteractive('df-5762c0fc-4e14-4ec8-b692-1e3d3a34cc24')\"\n",
              "              title=\"Convert this dataframe to an interactive table.\"\n",
              "              style=\"display:none;\">\n",
              "        \n",
              "  <svg xmlns=\"http://www.w3.org/2000/svg\" height=\"24px\"viewBox=\"0 0 24 24\"\n",
              "       width=\"24px\">\n",
              "    <path d=\"M0 0h24v24H0V0z\" fill=\"none\"/>\n",
              "    <path d=\"M18.56 5.44l.94 2.06.94-2.06 2.06-.94-2.06-.94-.94-2.06-.94 2.06-2.06.94zm-11 1L8.5 8.5l.94-2.06 2.06-.94-2.06-.94L8.5 2.5l-.94 2.06-2.06.94zm10 10l.94 2.06.94-2.06 2.06-.94-2.06-.94-.94-2.06-.94 2.06-2.06.94z\"/><path d=\"M17.41 7.96l-1.37-1.37c-.4-.4-.92-.59-1.43-.59-.52 0-1.04.2-1.43.59L10.3 9.45l-7.72 7.72c-.78.78-.78 2.05 0 2.83L4 21.41c.39.39.9.59 1.41.59.51 0 1.02-.2 1.41-.59l7.78-7.78 2.81-2.81c.8-.78.8-2.07 0-2.86zM5.41 20L4 18.59l7.72-7.72 1.47 1.35L5.41 20z\"/>\n",
              "  </svg>\n",
              "      </button>\n",
              "      \n",
              "  <style>\n",
              "    .colab-df-container {\n",
              "      display:flex;\n",
              "      flex-wrap:wrap;\n",
              "      gap: 12px;\n",
              "    }\n",
              "\n",
              "    .colab-df-convert {\n",
              "      background-color: #E8F0FE;\n",
              "      border: none;\n",
              "      border-radius: 50%;\n",
              "      cursor: pointer;\n",
              "      display: none;\n",
              "      fill: #1967D2;\n",
              "      height: 32px;\n",
              "      padding: 0 0 0 0;\n",
              "      width: 32px;\n",
              "    }\n",
              "\n",
              "    .colab-df-convert:hover {\n",
              "      background-color: #E2EBFA;\n",
              "      box-shadow: 0px 1px 2px rgba(60, 64, 67, 0.3), 0px 1px 3px 1px rgba(60, 64, 67, 0.15);\n",
              "      fill: #174EA6;\n",
              "    }\n",
              "\n",
              "    [theme=dark] .colab-df-convert {\n",
              "      background-color: #3B4455;\n",
              "      fill: #D2E3FC;\n",
              "    }\n",
              "\n",
              "    [theme=dark] .colab-df-convert:hover {\n",
              "      background-color: #434B5C;\n",
              "      box-shadow: 0px 1px 3px 1px rgba(0, 0, 0, 0.15);\n",
              "      filter: drop-shadow(0px 1px 2px rgba(0, 0, 0, 0.3));\n",
              "      fill: #FFFFFF;\n",
              "    }\n",
              "  </style>\n",
              "\n",
              "      <script>\n",
              "        const buttonEl =\n",
              "          document.querySelector('#df-5762c0fc-4e14-4ec8-b692-1e3d3a34cc24 button.colab-df-convert');\n",
              "        buttonEl.style.display =\n",
              "          google.colab.kernel.accessAllowed ? 'block' : 'none';\n",
              "\n",
              "        async function convertToInteractive(key) {\n",
              "          const element = document.querySelector('#df-5762c0fc-4e14-4ec8-b692-1e3d3a34cc24');\n",
              "          const dataTable =\n",
              "            await google.colab.kernel.invokeFunction('convertToInteractive',\n",
              "                                                     [key], {});\n",
              "          if (!dataTable) return;\n",
              "\n",
              "          const docLinkHtml = 'Like what you see? Visit the ' +\n",
              "            '<a target=\"_blank\" href=https://colab.research.google.com/notebooks/data_table.ipynb>data table notebook</a>'\n",
              "            + ' to learn more about interactive tables.';\n",
              "          element.innerHTML = '';\n",
              "          dataTable['output_type'] = 'display_data';\n",
              "          await google.colab.output.renderOutput(dataTable, element);\n",
              "          const docLink = document.createElement('div');\n",
              "          docLink.innerHTML = docLinkHtml;\n",
              "          element.appendChild(docLink);\n",
              "        }\n",
              "      </script>\n",
              "    </div>\n",
              "  </div>\n",
              "  "
            ]
          },
          "metadata": {},
          "execution_count": 17
        }
      ]
    },
    {
      "cell_type": "code",
      "source": [
        "acessoPorModalidade.plot(kind='bar', color=['#ff0000'])\n",
        "plt.title(\"Acessos por modalidade\")\n",
        "plt.xlabel(\"Modalidade\")\n",
        "plt.ylabel(\"Acessos\")\n",
        "plt.legend().remove()"
      ],
      "metadata": {
        "colab": {
          "base_uri": "https://localhost:8080/",
          "height": 335
        },
        "id": "1Us0g_PmPqdB",
        "outputId": "1291141a-645b-457f-ba5c-1f74b97a3712"
      },
      "execution_count": 18,
      "outputs": [
        {
          "output_type": "display_data",
          "data": {
            "text/plain": [
              "<Figure size 432x288 with 1 Axes>"
            ],
            "image/png": "[encoded data removed]"
          },
          "metadata": {}
        }
      ]
    },
    {
      "cell_type": "markdown",
      "source": [
        "Quebra de dados em conjunto de treino e conjunto de teste:"
      ],
      "metadata": {
        "id": "DfTsjB86PuF2"
      }
    },
    {
      "cell_type": "code",
      "source": [
        "from sklearn.model_selection import train_test_split"
      ],
      "metadata": {
        "id": "YPhQH3E4RNnJ"
      },
      "execution_count": 27,
      "outputs": []
    },
    {
      "cell_type": "code",
      "source": [
        "x = pd.get_dummies(dadosSelecionados[dadosSelecionados.columns[:-4]])\n",
        "y = pd.get_dummies(dadosSelecionados[dadosSelecionados.columns[-4:]])\n",
        "print(x.shape, y.shape)\n",
        "\n",
        "x_train, x_test, y_train, y_test = train_test_split(x, y, test_size=0.3)"
      ],
      "metadata": {
        "colab": {
          "base_uri": "https://localhost:8080/"
        },
        "id": "9S73YnSEPsPq",
        "outputId": "7c5fcb7b-34a9-48e5-cb36-8740e9999f22"
      },
      "execution_count": 59,
      "outputs": [
        {
          "output_type": "stream",
          "name": "stdout",
          "text": [
            "(8539107, 31) (8539107, 20)\n"
          ]
        }
      ]
    },
    {
      "cell_type": "code",
      "source": [
        "print(f\"Tamanho de x_train: {x_train.shape}\")\n",
        "print(f\"Tamanho de x_test: {x_test.shape}\")\n",
        "print(f\"Tamanho de y_train: {y_train.shape}\")\n",
        "print(f\"Tamanho de y_test: {y_test.shape}\")"
      ],
      "metadata": {
        "colab": {
          "base_uri": "https://localhost:8080/"
        },
        "id": "bJW6Op9xP2Ck",
        "outputId": "0961410f-ee2a-4ddd-a50e-ecd1c3871aa2"
      },
      "execution_count": 60,
      "outputs": [
        {
          "output_type": "stream",
          "name": "stdout",
          "text": [
            "Tamanho de x_train: (5977374, 31)\n",
            "Tamanho de x_test: (2561733, 31)\n",
            "Tamanho de y_train: (5977374, 20)\n",
            "Tamanho de y_test: (2561733, 20)\n"
          ]
        }
      ]
    },
    {
      "cell_type": "markdown",
      "source": [
        "Treina um estimador do scikit-learn de aprendizagem supervisionada regressor no conjunto de treino:"
      ],
      "metadata": {
        "id": "m349tqAJQX__"
      }
    },
    {
      "cell_type": "code",
      "source": [
        "from sklearn.linear_model import LinearRegression\n",
        "clf = LinearRegression()"
      ],
      "metadata": {
        "id": "bbfbMTwMQUxq"
      },
      "execution_count": 61,
      "outputs": []
    },
    {
      "cell_type": "code",
      "source": [
        "clf.fit(x_train, y_train)"
      ],
      "metadata": {
        "colab": {
          "base_uri": "https://localhost:8080/"
        },
        "id": "17AVYBVWQgd3",
        "outputId": "024a0c9c-e131-4f40-a29a-407d6f09de96"
      },
      "execution_count": 62,
      "outputs": [
        {
          "output_type": "execute_result",
          "data": {
            "text/plain": [
              "LinearRegression()"
            ]
          },
          "metadata": {},
          "execution_count": 62
        }
      ]
    },
    {
      "cell_type": "markdown",
      "source": [
        "Verifica o desempenho do estimador do scikit-learn no conjunto de teste:"
      ],
      "metadata": {
        "id": "6-IPyvvfQxn2"
      }
    },
    {
      "cell_type": "code",
      "source": [
        "from sklearn.metrics import mean_absolute_error, mean_squared_error\n",
        "\n",
        "y_pred = clf.predict(x_test)\n",
        "\n",
        "print(f\"Acurácia de Teste: ±{mean_absolute_error(y_test, y_pred):1.0f}\")"
      ],
      "metadata": {
        "colab": {
          "base_uri": "https://localhost:8080/"
        },
        "id": "JW6ZZNPCQ0EI",
        "outputId": "5ffe0c2a-b7e5-4336-b537-d6427d92fca6"
      },
      "execution_count": 63,
      "outputs": [
        {
          "output_type": "stream",
          "name": "stdout",
          "text": [
            "Acurácia de Teste: ±886\n"
          ]
        }
      ]
    }
  ]
}